{
  "cells": [
    {
      "cell_type": "markdown",
      "metadata": {
        "id": "dmUWaAK5ALXL"
      },
      "source": [
        "**HyDE**\n",
        "\n",
        "Exploring HyDE: A New Approach to Relevance-Based Retrieval"
      ]
    },
    {
      "cell_type": "markdown",
      "source": [
        "For more technical tedeatils check our blog\n",
        "https://medium.com/@aksdesai1998/exploring-hyde-a-new-approach-to-relevance-based-retrieval-0946c54dfdcb"
      ],
      "metadata": {
        "id": "fggNdt75THcX"
      }
    },
    {
      "cell_type": "code",
      "source": [
        "%%capture\n",
        "!pip install langchain openai tiktoken\n",
        "!pip install lancedb\n",
        "!pip install pypdf"
      ],
      "metadata": {
        "id": "Z7e5J_1DS6RX"
      },
      "execution_count": 2,
      "outputs": []
    },
    {
      "cell_type": "code",
      "execution_count": 3,
      "metadata": {
        "colab": {
          "base_uri": "https://localhost:8080/"
        },
        "id": "2Z1DIiA3qoZe",
        "outputId": "799fc079-4383-498e-be46-a3ec90221efc"
      },
      "outputs": [
        {
          "name": "stdout",
          "output_type": "stream",
          "text": [
            "Enter Your OpenAI API Key:··········\n"
          ]
        }
      ],
      "source": [
        "import os\n",
        "import getpass\n",
        "\n",
        "os.environ[\"OPENAI_API_KEY\"] = getpass.getpass(\"Enter Your OpenAI API Key:\")"
      ]
    },
    {
      "cell_type": "code",
      "execution_count": 4,
      "metadata": {
        "id": "2eY0EqQ09Pr7",
        "colab": {
          "base_uri": "https://localhost:8080/"
        },
        "outputId": "458523c6-7464-4a97-ca4a-235e7c96dc48"
      },
      "outputs": [
        {
          "output_type": "stream",
          "name": "stdout",
          "text": [
            "--2023-11-25 07:14:09--  https://www.gita-society.com/bhagavad-gita-in-english-source-file.pdf\n",
            "Resolving www.gita-society.com (www.gita-society.com)... 192.124.249.102\n",
            "Connecting to www.gita-society.com (www.gita-society.com)|192.124.249.102|:443... connected.\n",
            "HTTP request sent, awaiting response... 200 OK\n",
            "Length: 540128 (527K) [application/pdf]\n",
            "Saving to: ‘bhagavad-gita-in-english-source-file.pdf’\n",
            "\n",
            "bhagavad-gita-in-en 100%[===================>] 527.47K  --.-KB/s    in 0.1s    \n",
            "\n",
            "2023-11-25 07:14:10 (3.97 MB/s) - ‘bhagavad-gita-in-english-source-file.pdf’ saved [540128/540128]\n",
            "\n"
          ]
        }
      ],
      "source": [
        "# download the book for producing same results\n",
        "!wget https://www.gita-society.com/bhagavad-gita-in-english-source-file.pdf"
      ]
    },
    {
      "cell_type": "code",
      "execution_count": 5,
      "metadata": {
        "id": "2IuHbmcwtd_E"
      },
      "outputs": [],
      "source": [
        "from langchain.llms import OpenAI\n",
        "from langchain.embeddings import OpenAIEmbeddings\n",
        "from langchain.chains import LLMChain, HypotheticalDocumentEmbedder\n",
        "from langchain.prompts import PromptTemplate"
      ]
    },
    {
      "cell_type": "code",
      "execution_count": 6,
      "metadata": {
        "id": "phSV35Retf-1"
      },
      "outputs": [],
      "source": [
        "# instantiate llm\n",
        "llm = OpenAI()\n",
        "emebeddings = OpenAIEmbeddings()"
      ]
    },
    {
      "cell_type": "code",
      "execution_count": 7,
      "metadata": {
        "id": "-BL8g-E-vpm7"
      },
      "outputs": [],
      "source": [
        "embeddings = HypotheticalDocumentEmbedder.from_llm(llm, emebeddings, \"web_search\")\n",
        "\n",
        "# Now we can use it as any embedding class\n",
        "result = embeddings.embed_query(\"What bhagavad gita tell us?\")\n"
      ]
    },
    {
      "cell_type": "markdown",
      "metadata": {
        "id": "NQMSmzVnvp0E"
      },
      "source": [
        "# Multiple generations\n",
        "\n",
        "We can also generate multiple documents and then combine the embeddings for those. By default, we combine those by taking the average. We can do this by changing the LLM we use to generate documents to return multiple things.\n"
      ]
    },
    {
      "cell_type": "code",
      "execution_count": 8,
      "metadata": {
        "id": "2SIcCeWUvp6W"
      },
      "outputs": [],
      "source": [
        "multi_llm = OpenAI(n=3, best_of=3)"
      ]
    },
    {
      "cell_type": "code",
      "execution_count": 9,
      "metadata": {
        "id": "owAVG5JtwDWF"
      },
      "outputs": [],
      "source": [
        "embeddings = HypotheticalDocumentEmbedder.from_llm(\n",
        "    multi_llm, embeddings, \"web_search\"\n",
        ")"
      ]
    },
    {
      "cell_type": "code",
      "execution_count": 10,
      "metadata": {
        "id": "i54keBy8wEXG"
      },
      "outputs": [],
      "source": [
        "result = embeddings.embed_query(\"What bhagavad gita tell us?\")"
      ]
    },
    {
      "cell_type": "markdown",
      "metadata": {
        "id": "WGxLiMKRJF6v"
      },
      "source": [
        "The `HypotheticalDocumentEmbedder` does not actually create full hypothetical documents.\n",
        "\n",
        "It only generates an embedding vector representing a hypothetical document.\n",
        "\n",
        "The `HypotheticalDocumentEmbedder` is used to generate \"dummy\" embeddings that can be inserted into a vectorstore index.\n",
        "\n",
        "This allows you to reserve space for documents that don't exist yet, so that you can incrementally add new real documents later.\n",
        "\n",
        "But the embedder itself does not generate any actual text content for these hypothetical documents.\n",
        "\n",
        "It simply generates an embedding vector using a strategy like sampling from a normal distribution."
      ]
    },
    {
      "cell_type": "markdown",
      "metadata": {
        "id": "mS8CgXqmwKpz"
      },
      "source": [
        "\n",
        "\n",
        "## Making Your Own Prompts\n",
        "You can also make and use your own prompts when creating documents with LLMChain. This is helpful if you know what topic you're asking about. With a custom prompt, you can get text that fits your topic better.\n",
        "\n",
        "Let's try this out. We'll make a prompt about a state of the union address, which we'll use in the next example."
      ]
    },
    {
      "cell_type": "code",
      "execution_count": 11,
      "metadata": {
        "id": "_Xkvn9_d-3pU"
      },
      "outputs": [],
      "source": [
        "prompt_template = \"\"\"\n",
        "As a knowledgeable and helpful research assistant, your task is to provide informative answers based on the given context. Use your extensive knowledge base to offer clear, concise, and accurate responses to the user's inquiries.\n",
        "\n",
        "Question: {question}\n",
        "\n",
        "Answer:\n",
        "\"\"\"\n",
        "\n",
        "\n",
        "prompt = PromptTemplate(input_variables=[\"question\"], template=prompt_template)\n",
        "\n",
        "llm_chain = LLMChain(llm=llm, prompt=prompt)"
      ]
    },
    {
      "cell_type": "code",
      "execution_count": 12,
      "metadata": {
        "id": "dZ5gPHYW--32"
      },
      "outputs": [],
      "source": [
        "embeddings = HypotheticalDocumentEmbedder(\n",
        "    llm_chain=llm_chain,\n",
        "    base_embeddings=embeddings\n",
        ")"
      ]
    },
    {
      "cell_type": "markdown",
      "metadata": {
        "id": "fj8Dzu1UvHUp"
      },
      "source": [
        "Loading data from pdf"
      ]
    },
    {
      "cell_type": "markdown",
      "source": [
        "Download book from here https://www.gita-society.com/bhagavad-gita-in-english-source-file.pdf"
      ],
      "metadata": {
        "id": "UYPVW61oUDS8"
      }
    },
    {
      "cell_type": "code",
      "execution_count": 15,
      "metadata": {
        "id": "JpSOGkpTAbpL"
      },
      "outputs": [],
      "source": [
        "from langchain.text_splitter import RecursiveCharacterTextSplitter\n",
        "from langchain.document_loaders import PyPDFLoader\n",
        "\n",
        "#Load the  pdf\n",
        "pdf_folder_path = '/content/bhagavad-gita-in-english-source-file.pdf'\n",
        "\n",
        "\n",
        "loader = PyPDFLoader(pdf_folder_path)\n",
        "docs = loader.load_and_split()\n",
        "\n",
        "text_splitter = RecursiveCharacterTextSplitter(\n",
        "    chunk_size=500,\n",
        "    chunk_overlap=50,\n",
        ")\n",
        "documents = text_splitter.split_documents(docs)\n"
      ]
    },
    {
      "cell_type": "code",
      "execution_count": 17,
      "metadata": {
        "id": "rXFIs5v7Abt3"
      },
      "outputs": [],
      "source": [
        "from langchain.vectorstores import LanceDB\n",
        "import lancedb\n",
        "\n",
        "# lancedb as vectorstore\n",
        "db = lancedb.connect('/tmp/lancedb')\n",
        "table = db.create_table(\"documentsai\", data=[\n",
        "    {\"vector\": embeddings.embed_query(\"Hello World\"), \"text\": \"Hello World\", \"id\": \"1\"}\n",
        "], mode=\"overwrite\")\n",
        "vector_store = LanceDB.from_documents(documents, embeddings, connection=table)\n"
      ]
    },
    {
      "cell_type": "code",
      "execution_count": 18,
      "metadata": {
        "colab": {
          "base_uri": "https://localhost:8080/"
        },
        "id": "P4bvTDFDEEX6",
        "outputId": "b6d0afbf-0a7f-4250-bd83-dc941a98ace6"
      },
      "outputs": [
        {
          "output_type": "execute_result",
          "data": {
            "text/plain": [
              "[Document(page_content='gaged in work, such a Karma -yogi is not bound by Karma. (4.22) \\nThe one who is free f rom attachment, whose mind is fixed in Self -\\nknowledge, who does work as a service (Sev a) to the Lord, all K ar-\\nmic bonds of such a philanthropic person ( Karma -yogi) dissolve \\naway. (4.23) God shall be realized by the one who considers eve-\\nrything as a manifest ation or an act of God. (Also see 9.16) (4.24)  \\nDifferent types of spiritual practices', metadata={'vector': array([-0.00890432, -0.01419295,  0.00024622, ..., -0.0255662 ,\n",
              "         0.01837529, -0.0352935 ], dtype=float32), 'id': '849b3475-6bf5-4a6a-955c-aa9c1426cdbb', '_distance': 0.2407873421907425}),\n",
              " Document(page_content='renunciation (Samny asa) is also known as Karma -yoga . No one \\nbecomes a Karma -yogi who has not renounced the selfish motive \\nbehind an action. (6.02)  \\nA definition of yoga and yogi  \\nFor the wise who seeks to attain yoga of meditation or calm-\\nness of mind, Karma -yoga  is said to be the means. For the one \\nwho has attained yoga, the calmness becomes the means of Self -\\nrealization. A person is said to have attained yogic perfection when', metadata={'vector': array([ 0.00463139, -0.02188308,  0.01836756, ...,  0.00026087,\n",
              "         0.01343005, -0.02467442], dtype=float32), 'id': 'f560dd78-48b8-419b-8576-978e6afee272', '_distance': 0.24962666630744934}),\n",
              " Document(page_content='one should know the nature of attached or selfish action, the nature \\nof detached or selfless action, and also the nature of forbidden ac-\\ntion. (4.17)  \\nA Karma -yogi is not subject  to the K armic laws  \\nThe one who sees inaction in action, and action in inaction, is \\na wise person. Such a person is a yogi and has accomplished eve-\\nrything. (4.18)  \\nTo see inaction in action and vice versa is to understand that \\nthe Lord does  all the work indirectly through His power by using us.', metadata={'vector': array([-0.01086397, -0.01465061,  0.00732531, ..., -0.00368611,\n",
              "         0.01414126, -0.0371828 ], dtype=float32), 'id': 'a2088f52-eb0e-43bc-a93d-1023541dff9d', '_distance': 0.26249048113822937}),\n",
              " Document(page_content='the best of your ability, O Arjuna, with your mind attached to the \\nLord, aba ndoning worry and attachment  to the results, and remain-\\ning calm in both success and failure. The calmness of mind  is \\ncalled Karma -yoga . (2.48) Work done with selfish motives is infe-\\nrior by far to selfless service or Karma -yoga . Therefore, be a \\nKarma -yogi, O Arjuna. Those who work only to enjoy the fruits of \\ntheir labor are, in truth, unhappy. Because , one has no control over \\nthe results. (2.49)', metadata={'vector': array([ 0.00598168, -0.01145132,  0.01744962, ..., -0.01556102,\n",
              "         0.00799331, -0.03753265], dtype=float32), 'id': 'b3e30fff-f3a5-4665-9569-b285f8cf9c76', '_distance': 0.2726559340953827})]"
            ]
          },
          "metadata": {},
          "execution_count": 18
        }
      ],
      "source": [
        "# passing in the string query to get some refrence\n",
        "query = \"What is karma -yoga  ?\"\n",
        "\n",
        "vector_store.similarity_search(query)"
      ]
    },
    {
      "cell_type": "code",
      "execution_count": null,
      "metadata": {
        "id": "aJ-scBC0qCOx"
      },
      "outputs": [],
      "source": [
        "llm_chain.run(\"tell me 10 key points from this book bhagavad gita\")"
      ]
    },
    {
      "cell_type": "code",
      "execution_count": null,
      "metadata": {
        "id": "mpwEO-xSFQvL"
      },
      "outputs": [],
      "source": [
        "llm_chain.run(\"explain the karma & its impact \")"
      ]
    },
    {
      "cell_type": "code",
      "execution_count": null,
      "metadata": {
        "id": "0wqAiynUHXZG"
      },
      "outputs": [],
      "source": [
        "llm_chain.run(\"who is yogi ?\")"
      ]
    },
    {
      "cell_type": "code",
      "execution_count": null,
      "metadata": {
        "id": "QfUGLjr8HhIr"
      },
      "outputs": [],
      "source": [
        "llm_chain.run(\"what are the 3 models of nature?\")"
      ]
    },
    {
      "cell_type": "code",
      "execution_count": null,
      "metadata": {
        "id": "C3UvnY6YIKxf"
      },
      "outputs": [],
      "source": [
        "llm_chain.run(\"what is god \")"
      ]
    },
    {
      "cell_type": "code",
      "execution_count": null,
      "metadata": {
        "id": "pAkgNtzCIOyl"
      },
      "outputs": [],
      "source": []
    },
    {
      "cell_type": "code",
      "execution_count": null,
      "metadata": {
        "id": "Lluogzuifkcy"
      },
      "outputs": [],
      "source": []
    }
  ],
  "metadata": {
    "colab": {
      "provenance": []
    },
    "kernelspec": {
      "display_name": "Python 3",
      "name": "python3"
    },
    "language_info": {
      "name": "python"
    }
  },
  "nbformat": 4,
  "nbformat_minor": 0
}